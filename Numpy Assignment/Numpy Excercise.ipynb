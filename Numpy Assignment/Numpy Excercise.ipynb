{
 "cells": [
  {
   "cell_type": "code",
   "execution_count": 1,
   "id": "65e43114",
   "metadata": {},
   "outputs": [],
   "source": [
    "import numpy as np"
   ]
  },
  {
   "cell_type": "code",
   "execution_count": 5,
   "id": "46d87190",
   "metadata": {},
   "outputs": [
    {
     "name": "stdout",
     "output_type": "stream",
     "text": [
      "[7 8]\n"
     ]
    }
   ],
   "source": [
    "array1 = np.array([1,2,5,7,8,9,10])\n",
    "\n",
    "print(array1[3:5])"
   ]
  },
  {
   "cell_type": "code",
   "execution_count": 8,
   "id": "d1d81633",
   "metadata": {},
   "outputs": [
    {
     "name": "stdout",
     "output_type": "stream",
     "text": [
      "[5 9]\n"
     ]
    }
   ],
   "source": [
    "print(array1[2:50:3])"
   ]
  },
  {
   "cell_type": "code",
   "execution_count": 9,
   "id": "ed7259f8",
   "metadata": {},
   "outputs": [
    {
     "name": "stdout",
     "output_type": "stream",
     "text": [
      "[ 7  8  9 10]\n"
     ]
    }
   ],
   "source": [
    "print(array1[3:])"
   ]
  },
  {
   "cell_type": "code",
   "execution_count": 10,
   "id": "3e73e0e7",
   "metadata": {},
   "outputs": [
    {
     "name": "stdout",
     "output_type": "stream",
     "text": [
      "[ 1  2  5  7  8  9 10]\n"
     ]
    }
   ],
   "source": [
    "print(array1[:])"
   ]
  },
  {
   "cell_type": "code",
   "execution_count": 11,
   "id": "ce5a2649",
   "metadata": {},
   "outputs": [
    {
     "name": "stdout",
     "output_type": "stream",
     "text": [
      "Before: [ 1  2  3  4  5  6  7  8  9 20]\n",
      "After [ 1  2  3 20 20 20 20 20 20 20]\n"
     ]
    }
   ],
   "source": [
    "numbers = np.array([1,2,3,4,5,6,7,8,9,20])\n",
    "print(\"Before:\",numbers)\n",
    "numbers[3:] = 20\n",
    "\n",
    "print(\"After\",numbers)"
   ]
  },
  {
   "cell_type": "code",
   "execution_count": 13,
   "id": "cf21277d",
   "metadata": {},
   "outputs": [
    {
     "name": "stdout",
     "output_type": "stream",
     "text": [
      "Before: [ 1  2  3  4  5  6  7  8  9 20]\n",
      "After: [ 1  2 20 20 20 20 20 20 20 20]\n"
     ]
    }
   ],
   "source": [
    "numbers = np.array([1,2,3,4,5,6,7,8,9,20])\n",
    "print(\"Before:\",numbers)\n",
    "numbers[2:50] = 20\n",
    "print(\"After:\",numbers)"
   ]
  },
  {
   "cell_type": "markdown",
   "id": "e8ef68bc",
   "metadata": {},
   "source": [
    "# Negative Indexing"
   ]
  },
  {
   "cell_type": "code",
   "execution_count": 14,
   "id": "2635e3f5",
   "metadata": {},
   "outputs": [
    {
     "name": "stdout",
     "output_type": "stream",
     "text": [
      "[8, 10, 12]\n"
     ]
    }
   ],
   "source": [
    "numbers = [2,4,6,8,10,12]\n",
    "\n",
    "print(numbers[-3:])"
   ]
  },
  {
   "cell_type": "code",
   "execution_count": 15,
   "id": "05cf6dcc",
   "metadata": {},
   "outputs": [
    {
     "name": "stdout",
     "output_type": "stream",
     "text": [
      "[4, 6, 8]\n"
     ]
    }
   ],
   "source": [
    "print(numbers[-5:-2])"
   ]
  },
  {
   "cell_type": "code",
   "execution_count": 16,
   "id": "f31de7a5",
   "metadata": {},
   "outputs": [
    {
     "name": "stdout",
     "output_type": "stream",
     "text": [
      "[12, 8, 4]\n"
     ]
    }
   ],
   "source": [
    "print(numbers[-1::-2])"
   ]
  },
  {
   "cell_type": "code",
   "execution_count": 17,
   "id": "81eef166",
   "metadata": {},
   "outputs": [
    {
     "name": "stdout",
     "output_type": "stream",
     "text": [
      "[12, 10, 8, 6, 4, 2]\n"
     ]
    }
   ],
   "source": [
    "print(numbers[-1::-1])"
   ]
  },
  {
   "cell_type": "markdown",
   "id": "534e7bb9",
   "metadata": {},
   "source": [
    "# 2D Numpy array slicing"
   ]
  },
  {
   "cell_type": "code",
   "execution_count": 18,
   "id": "a9ac8744",
   "metadata": {},
   "outputs": [],
   "source": [
    "arr = np.array([[1,3,5,7],[9,11,13,15]])"
   ]
  },
  {
   "cell_type": "code",
   "execution_count": 19,
   "id": "d6aed23d",
   "metadata": {},
   "outputs": [
    {
     "data": {
      "text/plain": [
       "(2, 4)"
      ]
     },
     "execution_count": 19,
     "metadata": {},
     "output_type": "execute_result"
    }
   ],
   "source": [
    "arr.shape"
   ]
  },
  {
   "cell_type": "code",
   "execution_count": 20,
   "id": "df99d6a8",
   "metadata": {},
   "outputs": [
    {
     "name": "stdout",
     "output_type": "stream",
     "text": [
      "[[ 1  3]\n",
      " [ 9 11]]\n"
     ]
    }
   ],
   "source": [
    "print(arr[:2,:2])"
   ]
  },
  {
   "cell_type": "code",
   "execution_count": 26,
   "id": "eb3358ec",
   "metadata": {},
   "outputs": [
    {
     "name": "stdout",
     "output_type": "stream",
     "text": [
      "[[1 3 5 7]]\n"
     ]
    }
   ],
   "source": [
    "print(arr[:1,:])"
   ]
  },
  {
   "cell_type": "code",
   "execution_count": 28,
   "id": "bc9bad53",
   "metadata": {},
   "outputs": [
    {
     "name": "stdout",
     "output_type": "stream",
     "text": [
      "9\n"
     ]
    }
   ],
   "source": [
    "print(arr[1,0])"
   ]
  },
  {
   "cell_type": "code",
   "execution_count": 30,
   "id": "7a0e9396",
   "metadata": {},
   "outputs": [
    {
     "data": {
      "text/plain": [
       "(3, 3)"
      ]
     },
     "execution_count": 30,
     "metadata": {},
     "output_type": "execute_result"
    }
   ],
   "source": [
    "arr_3d = np.array([[1,2,3],[4,5,6],[7,8,9]])\n",
    "arr_3d.shape"
   ]
  },
  {
   "cell_type": "code",
   "execution_count": 31,
   "id": "a8c0bcef",
   "metadata": {},
   "outputs": [
    {
     "name": "stdout",
     "output_type": "stream",
     "text": [
      "[[1 2]\n",
      " [4 5]]\n"
     ]
    }
   ],
   "source": [
    "print(arr_3d[:2,:2])"
   ]
  },
  {
   "cell_type": "code",
   "execution_count": 33,
   "id": "dae91929",
   "metadata": {},
   "outputs": [
    {
     "name": "stdout",
     "output_type": "stream",
     "text": [
      "[[1 2]\n",
      " [4 5]]\n"
     ]
    }
   ],
   "source": [
    "print(arr_3d[:2,:2])"
   ]
  },
  {
   "cell_type": "code",
   "execution_count": 34,
   "id": "e62ebe9c",
   "metadata": {},
   "outputs": [
    {
     "name": "stdout",
     "output_type": "stream",
     "text": [
      "[[6]\n",
      " [9]]\n"
     ]
    }
   ],
   "source": [
    "print(arr_3d[1:50,2:4])"
   ]
  },
  {
   "cell_type": "code",
   "execution_count": 37,
   "id": "ff8aab5f",
   "metadata": {},
   "outputs": [],
   "source": [
    "arr = np.array([[[0, 1], \n",
    "             [2, 3]], \n",
    " \n",
    "            [[4, 5], \n",
    "             [6, 7]]])"
   ]
  },
  {
   "cell_type": "code",
   "execution_count": 40,
   "id": "c9c3cbe8",
   "metadata": {},
   "outputs": [
    {
     "data": {
      "text/plain": [
       "array([[[0, 1],\n",
       "        [2, 3]],\n",
       "\n",
       "       [[4, 5],\n",
       "        [6, 7]]])"
      ]
     },
     "execution_count": 40,
     "metadata": {},
     "output_type": "execute_result"
    }
   ],
   "source": [
    "arr"
   ]
  },
  {
   "cell_type": "code",
   "execution_count": 39,
   "id": "5f7fd6d1",
   "metadata": {},
   "outputs": [
    {
     "data": {
      "text/plain": [
       "(2, 2, 2)"
      ]
     },
     "execution_count": 39,
     "metadata": {},
     "output_type": "execute_result"
    }
   ],
   "source": [
    "arr.shape"
   ]
  },
  {
   "cell_type": "code",
   "execution_count": 41,
   "id": "b1e4b64c",
   "metadata": {},
   "outputs": [
    {
     "name": "stdout",
     "output_type": "stream",
     "text": [
      "[[[0]\n",
      "  [2]]\n",
      "\n",
      " [[4]\n",
      "  [6]]]\n"
     ]
    }
   ],
   "source": [
    "print(arr[:, 0:,:1])"
   ]
  },
  {
   "cell_type": "code",
   "execution_count": 42,
   "id": "aa0cb436",
   "metadata": {},
   "outputs": [],
   "source": [
    "x =np.arange(15)"
   ]
  },
  {
   "cell_type": "code",
   "execution_count": 43,
   "id": "e2473c3c",
   "metadata": {},
   "outputs": [
    {
     "data": {
      "text/plain": [
       "array([ 0,  1,  2,  3,  4,  5,  6,  7,  8,  9, 10, 11, 12, 13, 14])"
      ]
     },
     "execution_count": 43,
     "metadata": {},
     "output_type": "execute_result"
    }
   ],
   "source": [
    "x"
   ]
  },
  {
   "cell_type": "code",
   "execution_count": 44,
   "id": "c9079cca",
   "metadata": {},
   "outputs": [
    {
     "data": {
      "text/plain": [
       "array([[ 0,  1,  2,  3,  4],\n",
       "       [ 5,  6,  7,  8,  9],\n",
       "       [10, 11, 12, 13, 14]])"
      ]
     },
     "execution_count": 44,
     "metadata": {},
     "output_type": "execute_result"
    }
   ],
   "source": [
    "x.shape = (3,5)\n",
    "x"
   ]
  },
  {
   "cell_type": "code",
   "execution_count": 45,
   "id": "1da8de6f",
   "metadata": {},
   "outputs": [
    {
     "name": "stdout",
     "output_type": "stream",
     "text": [
      "Before: [ 0  1  2  3  4  5  6  7  8  9 10 11 12 13 14]\n",
      "Before shape (15,)\n",
      "\n",
      "\n",
      "After: [[[ 0  1  2  3  4]\n",
      "  [ 5  6  7  8  9]\n",
      "  [10 11 12 13 14]]]\n",
      "After shape (1, 3, 5)\n"
     ]
    }
   ],
   "source": [
    "x =np.arange(15)\n",
    "print(\"Before:\",x)\n",
    "print(\"Before shape\",x.shape)\n",
    "x.shape = (1,3,5)\n",
    "print(\"\\n\")\n",
    "print(\"After:\",x)\n",
    "print(\"After shape\",x.shape)"
   ]
  },
  {
   "cell_type": "code",
   "execution_count": 46,
   "id": "a2f72fe8",
   "metadata": {},
   "outputs": [
    {
     "data": {
      "text/plain": [
       "array([], shape=(0, 3, 5), dtype=int32)"
      ]
     },
     "execution_count": 46,
     "metadata": {},
     "output_type": "execute_result"
    }
   ],
   "source": [
    "x[:-1]"
   ]
  },
  {
   "cell_type": "code",
   "execution_count": 47,
   "id": "9f34ffbf",
   "metadata": {},
   "outputs": [
    {
     "data": {
      "text/plain": [
       "array([[ 0,  1,  2,  3,  4],\n",
       "       [ 5,  6,  7,  8,  9],\n",
       "       [10, 11, 12, 13, 14]])"
      ]
     },
     "execution_count": 47,
     "metadata": {},
     "output_type": "execute_result"
    }
   ],
   "source": [
    "x.shape = (3,5)\n",
    "x"
   ]
  },
  {
   "cell_type": "code",
   "execution_count": 48,
   "id": "d346f286",
   "metadata": {},
   "outputs": [
    {
     "data": {
      "text/plain": [
       "array([[0, 1, 2, 3, 4],\n",
       "       [5, 6, 7, 8, 9]])"
      ]
     },
     "execution_count": 48,
     "metadata": {},
     "output_type": "execute_result"
    }
   ],
   "source": [
    "x[:-1]"
   ]
  },
  {
   "cell_type": "code",
   "execution_count": 57,
   "id": "31605c4c",
   "metadata": {},
   "outputs": [
    {
     "data": {
      "text/plain": [
       "array([[ 1,  2,  3,  4,  5],\n",
       "       [ 6,  7,  8,  9, 10]])"
      ]
     },
     "execution_count": 57,
     "metadata": {},
     "output_type": "execute_result"
    }
   ],
   "source": [
    "a = np.arange(1,11).reshape(2,5)\n",
    "a"
   ]
  },
  {
   "cell_type": "code",
   "execution_count": 58,
   "id": "f5e1e2d7",
   "metadata": {},
   "outputs": [
    {
     "data": {
      "text/plain": [
       "array([[11, 12, 13, 14, 15],\n",
       "       [16, 17, 18, 19, 20]])"
      ]
     },
     "execution_count": 58,
     "metadata": {},
     "output_type": "execute_result"
    }
   ],
   "source": [
    "b= np.arange(11,21).reshape(2,5)\n",
    "b"
   ]
  },
  {
   "cell_type": "code",
   "execution_count": 59,
   "id": "d9bf525e",
   "metadata": {},
   "outputs": [
    {
     "data": {
      "text/plain": [
       "array([[ 11,  24,  39,  56,  75],\n",
       "       [ 96, 119, 144, 171, 200]])"
      ]
     },
     "execution_count": 59,
     "metadata": {},
     "output_type": "execute_result"
    }
   ],
   "source": [
    "a*b"
   ]
  },
  {
   "cell_type": "code",
   "execution_count": 62,
   "id": "1cfc21b5",
   "metadata": {},
   "outputs": [
    {
     "ename": "ValueError",
     "evalue": "matmul: Input operand 1 has a mismatch in its core dimension 0, with gufunc signature (n?,k),(k,m?)->(n?,m?) (size 2 is different from 5)",
     "output_type": "error",
     "traceback": [
      "\u001b[1;31m---------------------------------------------------------------------------\u001b[0m",
      "\u001b[1;31mValueError\u001b[0m                                Traceback (most recent call last)",
      "Cell \u001b[1;32mIn[62], line 1\u001b[0m\n\u001b[1;32m----> 1\u001b[0m np\u001b[38;5;241m.\u001b[39mmatmul(a,b)\n",
      "\u001b[1;31mValueError\u001b[0m: matmul: Input operand 1 has a mismatch in its core dimension 0, with gufunc signature (n?,k),(k,m?)->(n?,m?) (size 2 is different from 5)"
     ]
    }
   ],
   "source": [
    "np.matmul(a,b)"
   ]
  },
  {
   "cell_type": "code",
   "execution_count": 63,
   "id": "1fd6c785",
   "metadata": {},
   "outputs": [
    {
     "data": {
      "text/plain": [
       "False"
      ]
     },
     "execution_count": 63,
     "metadata": {},
     "output_type": "execute_result"
    }
   ],
   "source": [
    "a.shape[1] == b.shape[0]"
   ]
  },
  {
   "cell_type": "code",
   "execution_count": 64,
   "id": "a8552b75",
   "metadata": {},
   "outputs": [],
   "source": [
    "b = b.T"
   ]
  },
  {
   "cell_type": "code",
   "execution_count": 68,
   "id": "49015545",
   "metadata": {},
   "outputs": [
    {
     "data": {
      "text/plain": [
       "array([[11, 16],\n",
       "       [12, 17],\n",
       "       [13, 18],\n",
       "       [14, 19],\n",
       "       [15, 20]])"
      ]
     },
     "execution_count": 68,
     "metadata": {},
     "output_type": "execute_result"
    }
   ],
   "source": [
    "b"
   ]
  },
  {
   "cell_type": "code",
   "execution_count": 65,
   "id": "0c0f3622",
   "metadata": {},
   "outputs": [
    {
     "data": {
      "text/plain": [
       "True"
      ]
     },
     "execution_count": 65,
     "metadata": {},
     "output_type": "execute_result"
    }
   ],
   "source": [
    "a.shape[1] == b.shape[0]"
   ]
  },
  {
   "cell_type": "code",
   "execution_count": 67,
   "id": "735711a0",
   "metadata": {},
   "outputs": [
    {
     "name": "stdout",
     "output_type": "stream",
     "text": [
      "(2, 5) (5, 2)\n"
     ]
    }
   ],
   "source": [
    "print(a.shape,b.shape)"
   ]
  },
  {
   "cell_type": "code",
   "execution_count": 66,
   "id": "9cc6e257",
   "metadata": {},
   "outputs": [
    {
     "data": {
      "text/plain": [
       "array([[205, 280],\n",
       "       [530, 730]])"
      ]
     },
     "execution_count": 66,
     "metadata": {},
     "output_type": "execute_result"
    }
   ],
   "source": [
    "a@b"
   ]
  },
  {
   "cell_type": "code",
   "execution_count": 83,
   "id": "4949e55c",
   "metadata": {},
   "outputs": [],
   "source": [
    "mat = np.arange(1,21).reshape(2,10)"
   ]
  },
  {
   "cell_type": "code",
   "execution_count": 84,
   "id": "d50e5146",
   "metadata": {},
   "outputs": [
    {
     "data": {
      "text/plain": [
       "array([[ 1,  2,  3,  4,  5,  6,  7,  8,  9, 10],\n",
       "       [11, 12, 13, 14, 15, 16, 17, 18, 19, 20]])"
      ]
     },
     "execution_count": 84,
     "metadata": {},
     "output_type": "execute_result"
    }
   ],
   "source": [
    "mat"
   ]
  },
  {
   "cell_type": "code",
   "execution_count": 85,
   "id": "ab05399a",
   "metadata": {},
   "outputs": [],
   "source": [
    "n = 4\n",
    "reshaped_arr = mat.reshape(4,-1)"
   ]
  },
  {
   "cell_type": "code",
   "execution_count": 86,
   "id": "641ab4ce",
   "metadata": {},
   "outputs": [
    {
     "data": {
      "text/plain": [
       "(4, 5)"
      ]
     },
     "execution_count": 86,
     "metadata": {},
     "output_type": "execute_result"
    }
   ],
   "source": [
    "9reshaped_arr.shape"
   ]
  },
  {
   "cell_type": "code",
   "execution_count": 88,
   "id": "330b5857",
   "metadata": {},
   "outputs": [],
   "source": [
    "mat.shape = (1,2,10)"
   ]
  },
  {
   "cell_type": "code",
   "execution_count": 89,
   "id": "64d16cc1",
   "metadata": {},
   "outputs": [
    {
     "data": {
      "text/plain": [
       "array([[[ 1,  2,  3,  4,  5,  6,  7,  8,  9, 10],\n",
       "        [11, 12, 13, 14, 15, 16, 17, 18, 19, 20]]])"
      ]
     },
     "execution_count": 89,
     "metadata": {},
     "output_type": "execute_result"
    }
   ],
   "source": [
    "mat"
   ]
  },
  {
   "cell_type": "code",
   "execution_count": 90,
   "id": "f4b8b9e7",
   "metadata": {},
   "outputs": [
    {
     "data": {
      "text/plain": [
       "(1, 2, 10)"
      ]
     },
     "execution_count": 90,
     "metadata": {},
     "output_type": "execute_result"
    }
   ],
   "source": [
    "mat.shape"
   ]
  },
  {
   "cell_type": "markdown",
   "id": "7bcac980",
   "metadata": {},
   "source": [
    "# Numpy argsort and other aggregation"
   ]
  },
  {
   "cell_type": "code",
   "execution_count": 92,
   "id": "2f891618",
   "metadata": {},
   "outputs": [
    {
     "name": "stdout",
     "output_type": "stream",
     "text": [
      "[1 2 3 4 5]\n"
     ]
    }
   ],
   "source": [
    "arr = np.array([3,1,4,2,5])\n",
    "sorted_arr = np.sort(arr)\n",
    "print(sorted_arr)"
   ]
  },
  {
   "cell_type": "code",
   "execution_count": 93,
   "id": "a97b6965",
   "metadata": {},
   "outputs": [
    {
     "data": {
      "text/plain": [
       "3.0"
      ]
     },
     "execution_count": 93,
     "metadata": {},
     "output_type": "execute_result"
    }
   ],
   "source": [
    "np.mean(arr)"
   ]
  },
  {
   "cell_type": "code",
   "execution_count": 2,
   "id": "293fec93",
   "metadata": {},
   "outputs": [
    {
     "name": "stdout",
     "output_type": "stream",
     "text": [
      "[1 3 0 2 4]\n"
     ]
    }
   ],
   "source": [
    "arr = np.array([3,1,4,2,5])\n",
    "#sorted = 1,2,3,4,5\n",
    "print(np.argsort(arr))\n",
    "#This basically return the indices of numbers when the original array is sorted"
   ]
  },
  {
   "cell_type": "markdown",
   "id": "9f9253cc",
   "metadata": {},
   "source": [
    "# Vectorization"
   ]
  },
  {
   "cell_type": "code",
   "execution_count": 94,
   "id": "a8767797",
   "metadata": {},
   "outputs": [
    {
     "data": {
      "text/plain": [
       "array([[ 1,  2,  3,  4],\n",
       "       [ 5,  6,  7,  8],\n",
       "       [ 9, 10, 11, 12]])"
      ]
     },
     "execution_count": 94,
     "metadata": {},
     "output_type": "execute_result"
    }
   ],
   "source": [
    "a= np.arange(1,13).reshape(3,4)\n",
    "a"
   ]
  },
  {
   "cell_type": "code",
   "execution_count": 96,
   "id": "5afade3f",
   "metadata": {},
   "outputs": [],
   "source": [
    "def custom_function(x):\n",
    "    if x %2== 0:\n",
    "        return -x\n",
    "    else:\n",
    "        return x"
   ]
  },
  {
   "cell_type": "code",
   "execution_count": 97,
   "id": "e28f2e67",
   "metadata": {},
   "outputs": [
    {
     "ename": "ValueError",
     "evalue": "The truth value of an array with more than one element is ambiguous. Use a.any() or a.all()",
     "output_type": "error",
     "traceback": [
      "\u001b[1;31m---------------------------------------------------------------------------\u001b[0m",
      "\u001b[1;31mValueError\u001b[0m                                Traceback (most recent call last)",
      "Cell \u001b[1;32mIn[97], line 1\u001b[0m\n\u001b[1;32m----> 1\u001b[0m \u001b[38;5;28mprint\u001b[39m(custom_function(a))\n",
      "Cell \u001b[1;32mIn[96], line 2\u001b[0m, in \u001b[0;36mcustom_function\u001b[1;34m(x)\u001b[0m\n\u001b[0;32m      1\u001b[0m \u001b[38;5;28;01mdef\u001b[39;00m \u001b[38;5;21mcustom_function\u001b[39m(x):\n\u001b[1;32m----> 2\u001b[0m     \u001b[38;5;28;01mif\u001b[39;00m x \u001b[38;5;241m%\u001b[39m\u001b[38;5;241m2\u001b[39m\u001b[38;5;241m==\u001b[39m \u001b[38;5;241m0\u001b[39m:\n\u001b[0;32m      3\u001b[0m         \u001b[38;5;28;01mreturn\u001b[39;00m \u001b[38;5;241m-\u001b[39mx\n\u001b[0;32m      4\u001b[0m     \u001b[38;5;28;01melse\u001b[39;00m:\n",
      "\u001b[1;31mValueError\u001b[0m: The truth value of an array with more than one element is ambiguous. Use a.any() or a.all()"
     ]
    }
   ],
   "source": [
    "print(custom_function(a))"
   ]
  },
  {
   "cell_type": "code",
   "execution_count": 98,
   "id": "db26f546",
   "metadata": {},
   "outputs": [],
   "source": [
    "vectorized_function = np.vectorize(custom_function)"
   ]
  },
  {
   "cell_type": "code",
   "execution_count": 99,
   "id": "3e7ff012",
   "metadata": {},
   "outputs": [
    {
     "name": "stdout",
     "output_type": "stream",
     "text": [
      "[[  1  -2   3  -4]\n",
      " [  5  -6   7  -8]\n",
      " [  9 -10  11 -12]]\n"
     ]
    }
   ],
   "source": [
    "print(vectorized_function(a))"
   ]
  },
  {
   "cell_type": "code",
   "execution_count": 100,
   "id": "24ac8f61",
   "metadata": {},
   "outputs": [
    {
     "data": {
      "text/plain": [
       "array(-2)"
      ]
     },
     "execution_count": 100,
     "metadata": {},
     "output_type": "execute_result"
    }
   ],
   "source": [
    "vectorized_function(2)"
   ]
  },
  {
   "cell_type": "markdown",
   "id": "787eab6c",
   "metadata": {},
   "source": [
    "# Concept of masking\n",
    "\n",
    "This will help us filter the array based on a condition"
   ]
  },
  {
   "cell_type": "code",
   "execution_count": 28,
   "id": "8a9ab2f3",
   "metadata": {},
   "outputs": [],
   "source": [
    "data = np.array([10,131,20,40,111,112])\n",
    "\n",
    "k = 10\n",
    "\n",
    "mask = data%k == 0"
   ]
  },
  {
   "cell_type": "code",
   "execution_count": 4,
   "id": "8f76b22b",
   "metadata": {},
   "outputs": [
    {
     "data": {
      "text/plain": [
       "array([ True, False,  True,  True, False, False])"
      ]
     },
     "execution_count": 4,
     "metadata": {},
     "output_type": "execute_result"
    }
   ],
   "source": [
    "mask"
   ]
  },
  {
   "cell_type": "code",
   "execution_count": 5,
   "id": "a96dff7e",
   "metadata": {},
   "outputs": [
    {
     "data": {
      "text/plain": [
       "array([10, 20, 40])"
      ]
     },
     "execution_count": 5,
     "metadata": {},
     "output_type": "execute_result"
    }
   ],
   "source": [
    "filtered_data = data[mask]\n",
    "filtered_data"
   ]
  },
  {
   "cell_type": "code",
   "execution_count": 6,
   "id": "21641863",
   "metadata": {},
   "outputs": [],
   "source": [
    "#Step 1 create a mask for your filter\n",
    "#step 2 check the mask for correct boolean values\n",
    "#step 3 apply the mask on index within original array to get filtered data"
   ]
  },
  {
   "cell_type": "code",
   "execution_count": 64,
   "id": "9552b36e",
   "metadata": {},
   "outputs": [],
   "source": [
    "data = np.array([10,131,20,40,111,112,125,145,168])\n",
    "\n",
    "mask_10_5 = (data%5==0) | (data%10==0) "
   ]
  },
  {
   "cell_type": "code",
   "execution_count": 65,
   "id": "2090b177",
   "metadata": {},
   "outputs": [
    {
     "data": {
      "text/plain": [
       "array([ 10, 131,  20,  40, 111, 112, 125, 145, 168])"
      ]
     },
     "execution_count": 65,
     "metadata": {},
     "output_type": "execute_result"
    }
   ],
   "source": [
    "data"
   ]
  },
  {
   "cell_type": "code",
   "execution_count": 66,
   "id": "502db1a9",
   "metadata": {},
   "outputs": [
    {
     "data": {
      "text/plain": [
       "array([ True, False,  True,  True, False, False,  True,  True, False])"
      ]
     },
     "execution_count": 66,
     "metadata": {},
     "output_type": "execute_result"
    }
   ],
   "source": [
    "mask_10_5"
   ]
  },
  {
   "cell_type": "code",
   "execution_count": 67,
   "id": "67989de5",
   "metadata": {},
   "outputs": [
    {
     "data": {
      "text/plain": [
       "array([ 10,  20,  40, 125, 145])"
      ]
     },
     "execution_count": 67,
     "metadata": {},
     "output_type": "execute_result"
    }
   ],
   "source": [
    "fil_data_10_5 = data[mask_10_5]\n",
    "fil_data_10_5"
   ]
  },
  {
   "cell_type": "code",
   "execution_count": 34,
   "id": "c78d8176",
   "metadata": {},
   "outputs": [
    {
     "data": {
      "text/plain": [
       "(5, 2)"
      ]
     },
     "execution_count": 34,
     "metadata": {},
     "output_type": "execute_result"
    }
   ],
   "source": [
    "data = np.array([[1.75,70],[1.60,65],[1.80,90],[1.70,75],[1.85,100]])\n",
    "data.shape"
   ]
  },
  {
   "cell_type": "code",
   "execution_count": 35,
   "id": "7970ec90",
   "metadata": {},
   "outputs": [
    {
     "name": "stdout",
     "output_type": "stream",
     "text": [
      "[1.75 1.6  1.8  1.7  1.85]\n",
      "\n",
      "\n",
      "[ 70.  65.  90.  75. 100.]\n"
     ]
    }
   ],
   "source": [
    "height = data[:,0]\n",
    "weight = data[:,1]\n",
    "\n",
    "print(height)\n",
    "print(\"\\n\")\n",
    "print(weight)"
   ]
  },
  {
   "cell_type": "code",
   "execution_count": 36,
   "id": "2fbb194f",
   "metadata": {},
   "outputs": [
    {
     "data": {
      "text/plain": [
       "array([22.85714286, 25.390625  , 27.77777778, 25.95155709, 29.2184076 ])"
      ]
     },
     "execution_count": 36,
     "metadata": {},
     "output_type": "execute_result"
    }
   ],
   "source": [
    "bmi = weight/(height**2)\n",
    "bmi"
   ]
  },
  {
   "cell_type": "code",
   "execution_count": 37,
   "id": "dd3a987f",
   "metadata": {},
   "outputs": [],
   "source": [
    "underweight = bmi < 18.5\n",
    "normalweight = (bmi >= 18.5) & (bmi < 24.9)\n",
    "overweight = (bmi >= 25) & (bmi < 29.9)\n",
    "obese = bmi >= 30"
   ]
  },
  {
   "cell_type": "code",
   "execution_count": 44,
   "id": "d30f6220",
   "metadata": {},
   "outputs": [
    {
     "data": {
      "text/plain": [
       "array([25.390625  , 27.77777778, 25.95155709, 29.2184076 ])"
      ]
     },
     "execution_count": 44,
     "metadata": {},
     "output_type": "execute_result"
    }
   ],
   "source": [
    "bmi[overweight]"
   ]
  },
  {
   "cell_type": "code",
   "execution_count": 45,
   "id": "b659e32d",
   "metadata": {},
   "outputs": [],
   "source": [
    "classfication = np.where(underweight,\"Under Weight\",np.where(normalweight,\"Normal\",np.where(overweight,\"Over weight\",\"Obese\")))"
   ]
  },
  {
   "cell_type": "code",
   "execution_count": 46,
   "id": "4da8149d",
   "metadata": {},
   "outputs": [
    {
     "data": {
      "text/plain": [
       "array(['Normal', 'Over weight', 'Over weight', 'Over weight',\n",
       "       'Over weight'], dtype='<U12')"
      ]
     },
     "execution_count": 46,
     "metadata": {},
     "output_type": "execute_result"
    }
   ],
   "source": [
    "classfication"
   ]
  },
  {
   "cell_type": "markdown",
   "id": "c3eb4fba",
   "metadata": {},
   "source": [
    "# Deep copy and Shallow Copy"
   ]
  },
  {
   "cell_type": "code",
   "execution_count": 68,
   "id": "69c4dc2c",
   "metadata": {},
   "outputs": [],
   "source": [
    "import numpy as np\n",
    "import copy\n",
    "\n",
    "x = np.array([10,20,30,40])\n",
    "#Shallow\n",
    "x_view1 = x.view()\n",
    "x_view2 = x[:]"
   ]
  },
  {
   "cell_type": "code",
   "execution_count": 69,
   "id": "2a00fa14",
   "metadata": {},
   "outputs": [],
   "source": [
    "#Deep\n",
    "x_copy1 = x.copy()\n",
    "x_copy2 = copy.copy(x)"
   ]
  },
  {
   "cell_type": "code",
   "execution_count": 70,
   "id": "576ede5b",
   "metadata": {},
   "outputs": [
    {
     "name": "stdout",
     "output_type": "stream",
     "text": [
      "[10 20 30 40]\n",
      "\n",
      "\n",
      "[10 20 30 40]\n",
      "\n",
      "\n",
      "[10 20 30 40]\n"
     ]
    }
   ],
   "source": [
    "#Before change\n",
    "print(x)\n",
    "print(\"\\n\")\n",
    "print(x_view1)\n",
    "print(\"\\n\")\n",
    "print(x_view2)"
   ]
  },
  {
   "cell_type": "code",
   "execution_count": 71,
   "id": "18d039af",
   "metadata": {},
   "outputs": [],
   "source": [
    "#Change same array elements to see what happens\n",
    "x[0] = 555"
   ]
  },
  {
   "cell_type": "code",
   "execution_count": 72,
   "id": "8bf83a51",
   "metadata": {},
   "outputs": [
    {
     "name": "stdout",
     "output_type": "stream",
     "text": [
      "[555  20  30  40]\n",
      "\n",
      "\n",
      "[555  20  30  40]\n",
      "\n",
      "\n",
      "[555  20  30  40]\n"
     ]
    }
   ],
   "source": [
    "#After change\n",
    "print(x)\n",
    "print(\"\\n\")\n",
    "print(x_view1)\n",
    "print(\"\\n\")\n",
    "print(x_view2)"
   ]
  },
  {
   "cell_type": "code",
   "execution_count": 73,
   "id": "66fe288d",
   "metadata": {},
   "outputs": [],
   "source": [
    "x_view1[1] = 666\n",
    "x_view2[2] = 777"
   ]
  },
  {
   "cell_type": "code",
   "execution_count": 74,
   "id": "1c86547c",
   "metadata": {},
   "outputs": [
    {
     "name": "stdout",
     "output_type": "stream",
     "text": [
      "[555 666 777  40]\n",
      "\n",
      "\n",
      "[555 666 777  40]\n",
      "\n",
      "\n",
      "[555 666 777  40]\n"
     ]
    }
   ],
   "source": [
    "#After change\n",
    "print(x)\n",
    "print(\"\\n\")\n",
    "print(x_view1)\n",
    "print(\"\\n\")\n",
    "print(x_view2)"
   ]
  },
  {
   "cell_type": "code",
   "execution_count": 75,
   "id": "66824f02",
   "metadata": {},
   "outputs": [
    {
     "name": "stdout",
     "output_type": "stream",
     "text": [
      "[10 20 30 40]\n",
      "\n",
      "\n",
      "[10 20 30 40]\n"
     ]
    }
   ],
   "source": [
    "#Before change\n",
    "print(x_copy1)\n",
    "print(\"\\n\")\n",
    "print(x_copy2)"
   ]
  },
  {
   "cell_type": "code",
   "execution_count": 76,
   "id": "6871fa14",
   "metadata": {},
   "outputs": [],
   "source": [
    "x_copy1[0] = 888\n",
    "x_copy2[0] = 999"
   ]
  },
  {
   "cell_type": "code",
   "execution_count": 77,
   "id": "1597a09e",
   "metadata": {},
   "outputs": [
    {
     "name": "stdout",
     "output_type": "stream",
     "text": [
      "[888  20  30  40]\n",
      "\n",
      "\n",
      "[999  20  30  40]\n"
     ]
    }
   ],
   "source": [
    "#After change\n",
    "print(x_copy1)\n",
    "print(\"\\n\")\n",
    "print(x_copy2)"
   ]
  },
  {
   "cell_type": "code",
   "execution_count": 78,
   "id": "15dcc79c",
   "metadata": {},
   "outputs": [
    {
     "data": {
      "text/plain": [
       "array([888,  20,  30,  40])"
      ]
     },
     "execution_count": 78,
     "metadata": {},
     "output_type": "execute_result"
    }
   ],
   "source": [
    "x_copy1"
   ]
  },
  {
   "cell_type": "code",
   "execution_count": 79,
   "id": "57c74c26",
   "metadata": {},
   "outputs": [
    {
     "data": {
      "text/plain": [
       "array([999,  20,  30,  40])"
      ]
     },
     "execution_count": 79,
     "metadata": {},
     "output_type": "execute_result"
    }
   ],
   "source": [
    "x_copy2"
   ]
  },
  {
   "cell_type": "code",
   "execution_count": null,
   "id": "6d2a5fd4",
   "metadata": {},
   "outputs": [],
   "source": []
  }
 ],
 "metadata": {
  "kernelspec": {
   "display_name": "Python 3 (ipykernel)",
   "language": "python",
   "name": "python3"
  },
  "language_info": {
   "codemirror_mode": {
    "name": "ipython",
    "version": 3
   },
   "file_extension": ".py",
   "mimetype": "text/x-python",
   "name": "python",
   "nbconvert_exporter": "python",
   "pygments_lexer": "ipython3",
   "version": "3.11.5"
  }
 },
 "nbformat": 4,
 "nbformat_minor": 5
}
