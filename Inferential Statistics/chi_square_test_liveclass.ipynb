{
 "cells": [
  {
   "cell_type": "markdown",
   "metadata": {
    "id": "77DcAx3scvpK"
   },
   "source": [
    "## Question #1:\n",
    "To assess whether a coin is fair or not, we need to compare the expected outcomes with the observed outcomes of tossing the coin.\n",
    "\n",
    "The expected outcome for a fair coin toss is 50% heads and 50% tails, which corresponds to 25 heads and 25 tails in 50 tosses.\n",
    "\n",
    "The observed outcomes from 50 coin tosses are 28 heads and 22 tails.\n",
    "\n",
    "To determine whether the coin is fair, we perform a chi-square test to check if the observed results significantly deviate from the expected results. If the deviation is statistically significant, it may indicate that the coin is not fair."
   ]
  },
  {
   "cell_type": "code",
   "execution_count": null,
   "metadata": {
    "id": "-o-uMdOPIKel"
   },
   "outputs": [],
   "source": [
    "# Ho: Coin is fair\n",
    "# Ha: Coin is biased"
   ]
  },
  {
   "cell_type": "code",
   "execution_count": 5,
   "metadata": {
    "id": "oKjVQF7nc3Z3"
   },
   "outputs": [],
   "source": [
    "import numpy as np\n",
    "import pandas as pd\n",
    "import seaborn as sns\n",
    "import matplotlib.pyplot as plt\n",
    "\n",
    "from scipy.stats import chisquare\n",
    "from scipy.stats import chi2"
   ]
  },
  {
   "cell_type": "code",
   "execution_count": 23,
   "metadata": {
    "colab": {
     "base_uri": "https://localhost:8080/"
    },
    "id": "CUV1M_pzdESc",
    "outputId": "46346267-0a22-4415-8ee2-cdb454137676"
   },
   "outputs": [
    {
     "data": {
      "text/plain": [
       "Power_divergenceResult(statistic=13.333333333333332, pvalue=0.0012726338013398094)"
      ]
     },
     "execution_count": 23,
     "metadata": {},
     "output_type": "execute_result"
    }
   ],
   "source": [
    "chisquare(\n",
    "    [40,100,60], # Observed or actual\n",
    "     [30,85,85] # Expected\n",
    ")"
   ]
  },
  {
   "cell_type": "code",
   "execution_count": 31,
   "metadata": {
    "colab": {
     "base_uri": "https://localhost:8080/"
    },
    "id": "P51J7eOkdYHV",
    "outputId": "d1406107-986e-4d3e-910b-e1c0a9e24571"
   },
   "outputs": [
    {
     "name": "stdout",
     "output_type": "stream",
     "text": [
      "p_value: 0.6891565167793516\n",
      "chi_stat: 0.16\n"
     ]
    }
   ],
   "source": [
    "chi_stat, p_value = chisquare(\n",
    "    [48,52], # Observed or actual\n",
    "    [50,50] # Expected\n",
    ")\n",
    "print(\"p_value:\",p_value)\n",
    "print(\"chi_stat:\",chi_stat)"
   ]
  },
  {
   "cell_type": "code",
   "execution_count": 7,
   "metadata": {
    "colab": {
     "base_uri": "https://localhost:8080/"
    },
    "id": "jqFzu6yfdqo4",
    "outputId": "b11b908e-7b38-452e-933f-0cc990e9e802"
   },
   "outputs": [
    {
     "name": "stdout",
     "output_type": "stream",
     "text": [
      "Fail to reject H0\n",
      "Accepting Ha: Coin is fair\n"
     ]
    }
   ],
   "source": [
    "alpha = 0.05\n",
    "\n",
    "if p_value < alpha:\n",
    "    print(\"Reject H0\")\n",
    "    print(\"Accepted Ha: Coin is baised\")\n",
    "else:\n",
    "    print(\"Fail to reject H0\")\n",
    "    print(\"Accepting Ha: Coin is fair\")"
   ]
  },
  {
   "cell_type": "markdown",
   "metadata": {
    "id": "giYACyYW37FJ"
   },
   "source": [
    "## Solving the same using formula"
   ]
  },
  {
   "cell_type": "code",
   "execution_count": null,
   "metadata": {
    "colab": {
     "base_uri": "https://localhost:8080/"
    },
    "id": "Wk0ADiuSd8e2",
    "outputId": "11f4aa42-5baa-4b7d-89fa-d7e7083c148d"
   },
   "outputs": [
    {
     "data": {
      "text/plain": [
       "0.72"
      ]
     },
     "execution_count": 7,
     "metadata": {},
     "output_type": "execute_result"
    }
   ],
   "source": [
    "#Using the formula\n",
    "(28 - 25)**2/25 + (22 - 25)**2 /25 # chi2stat"
   ]
  },
  {
   "cell_type": "code",
   "execution_count": null,
   "metadata": {
    "colab": {
     "base_uri": "https://localhost:8080/"
    },
    "id": "Ud_ZiBtOeFPb",
    "outputId": "91be7a8a-03ab-4a05-8134-dca99b9a74b5"
   },
   "outputs": [
    {
     "name": "stdout",
     "output_type": "stream",
     "text": [
      "0.3961439091520741\n"
     ]
    }
   ],
   "source": [
    "p_value = 1 - chi2.cdf(0.72, df=1) #p-value\n",
    "\n",
    "print(p_value)"
   ]
  },
  {
   "cell_type": "code",
   "execution_count": null,
   "metadata": {
    "colab": {
     "base_uri": "https://localhost:8080/"
    },
    "id": "IEjRz_sXvcb7",
    "outputId": "509cf170-9783-4bdf-abcc-2374767c28a1"
   },
   "outputs": [
    {
     "name": "stdout",
     "output_type": "stream",
     "text": [
      "Fail to reject H0\n",
      "Coin is fair\n"
     ]
    }
   ],
   "source": [
    "alpha = 0.05\n",
    "\n",
    "if p_value < alpha:\n",
    "    print(\"Reject H0\")\n",
    "    print(\"Coin is baised\")\n",
    "else:\n",
    "    print(\"Fail to reject H0\")\n",
    "    print(\"Coin is fair\")"
   ]
  },
  {
   "cell_type": "markdown",
   "metadata": {
    "id": "Th394czVfIqQ"
   },
   "source": [
    "# Question #2\n",
    "To assess whether a coin is fair or not, we need to compare the expected outcomes with the observed outcomes of tossing the coin.\n",
    "\n",
    "The expected outcome for a fair coin toss is 50% heads and 50% tails, which corresponds to 25 heads and 25 tails in 50 tosses.\n",
    "\n",
    "The observed outcomes from 50 coin tosses are 45 heads and 5 tails.\n",
    "\n",
    "To determine whether the coin is fair, we perform a chi-square test to check if the observed results significantly deviate from the expected results. If the deviation is statistically significant, it may indicate that the coin is not fair."
   ]
  },
  {
   "cell_type": "code",
   "execution_count": 30,
   "metadata": {
    "colab": {
     "base_uri": "https://localhost:8080/"
    },
    "id": "XsTin3JgePao",
    "outputId": "2a36422c-dc09-4aa1-c743-2b97574dd889"
   },
   "outputs": [
    {
     "name": "stdout",
     "output_type": "stream",
     "text": [
      "p_value: 0.14821506633752016\n",
      "chi_stat: 3.8181818181818183\n"
     ]
    }
   ],
   "source": [
    "chi_stat, p_value = chisquare(\n",
    "    [(0.3*150), (0.4*150),(0.3*150)], # Observed or actual\n",
    "    [45, 50,55]# Expected\n",
    ")\n",
    "print(\"p_value:\",p_value)\n",
    "print(\"chi_stat:\",chi_stat)"
   ]
  },
  {
   "cell_type": "code",
   "execution_count": null,
   "metadata": {
    "colab": {
     "base_uri": "https://localhost:8080/"
    },
    "id": "qrT744EufR45",
    "outputId": "06c143e7-d3b5-4442-83a6-623e95af83e1"
   },
   "outputs": [
    {
     "name": "stdout",
     "output_type": "stream",
     "text": [
      "Reject H0\n",
      "Coin is baised\n"
     ]
    }
   ],
   "source": [
    "alpha = 0.05\n",
    "\n",
    "if p_value < alpha:\n",
    "    print(\"Reject H0\")\n",
    "    print(\"Coin is baised\")\n",
    "else:\n",
    "    print(\"Fail to reject H0\")\n",
    "    print(\"Coin is fair\")"
   ]
  },
  {
   "cell_type": "code",
   "execution_count": null,
   "metadata": {
    "colab": {
     "base_uri": "https://localhost:8080/"
    },
    "id": "wshvfv6qfYVu",
    "outputId": "203c7ef6-bf60-44e2-f1f2-3779aa9049ee"
   },
   "outputs": [
    {
     "data": {
      "text/plain": [
       "32.0"
      ]
     },
     "execution_count": 14,
     "metadata": {},
     "output_type": "execute_result"
    }
   ],
   "source": [
    "(45 - 25)**2/25 + (5 - 25)**2 /25 # chi2stat"
   ]
  },
  {
   "cell_type": "code",
   "execution_count": null,
   "metadata": {
    "colab": {
     "base_uri": "https://localhost:8080/"
    },
    "id": "BZDu3poxfi1l",
    "outputId": "2dd8f066-2eea-4d49-b62e-0d322fa0519d"
   },
   "outputs": [
    {
     "data": {
      "text/plain": [
       "1.5417257914762672e-08"
      ]
     },
     "execution_count": 15,
     "metadata": {},
     "output_type": "execute_result"
    }
   ],
   "source": [
    "1 - chi2.cdf(32, df=1)"
   ]
  },
  {
   "cell_type": "code",
   "execution_count": 1,
   "metadata": {
    "id": "xLr0t2l7fldm"
   },
   "outputs": [],
   "source": [
    "from scipy.stats import chi2_contingency"
   ]
  },
  {
   "cell_type": "code",
   "execution_count": null,
   "metadata": {
    "colab": {
     "base_uri": "https://localhost:8080/"
    },
    "id": "E0DQyQSvjP10",
    "outputId": "48bedfb3-3cff-4a0c-b33a-6d7f02ce1100"
   },
   "outputs": [
    {
     "name": "stdout",
     "output_type": "stream",
     "text": [
      "chi_stat: 57.04098674049609\n",
      "p_value: 4.268230756875865e-14\n",
      "df: 1\n",
      "exp_freq: [[484.08710033 114.91289967]\n",
      " [248.91289967  59.08710033]]\n"
     ]
    }
   ],
   "source": [
    "observed = [\n",
    "    [527, 72],\n",
    "    [206, 102],]\n",
    "\n",
    "\n",
    "chi_stat, p_value, df, exp_freq = chi2_contingency(observed) # chi_stat, p_value, df, expected values\n",
    "print(\"chi_stat:\",chi_stat)\n",
    "print(\"p_value:\",p_value)\n",
    "print(\"df:\",df)\n",
    "print(\"exp_freq:\",exp_freq)"
   ]
  },
  {
   "cell_type": "code",
   "execution_count": null,
   "metadata": {
    "colab": {
     "base_uri": "https://localhost:8080/"
    },
    "id": "ntH4yMq8jgIX",
    "outputId": "82051c3f-d1b0-406d-f8d2-a351ad1cf956"
   },
   "outputs": [
    {
     "name": "stdout",
     "output_type": "stream",
     "text": [
      "Reject H0\n",
      "Gender and preference are not independent\n"
     ]
    }
   ],
   "source": [
    "alpha = 0.05\n",
    "\n",
    "if p_value < alpha:\n",
    "    print(\"Reject H0\")\n",
    "    print(\"Gender and preference are not independent\")\n",
    "else:\n",
    "    print(\"Fail to reject H0\")\n",
    "    print(\"Gender and preference are independent\")"
   ]
  },
  {
   "cell_type": "code",
   "execution_count": 27,
   "metadata": {
    "id": "hUqJgGEpn1bs"
   },
   "outputs": [],
   "source": [
    "observed = [\n",
    "    [335,348,318],\n",
    "    [35,23,50]]"
   ]
  },
  {
   "cell_type": "code",
   "execution_count": 28,
   "metadata": {
    "colab": {
     "base_uri": "https://localhost:8080/"
    },
    "id": "gVKlyE0HoLER",
    "outputId": "15b93d95-0725-4935-94c7-839746017fe7"
   },
   "outputs": [
    {
     "name": "stdout",
     "output_type": "stream",
     "text": [
      "chi_stat: 11.519544916042339\n",
      "p_value: 0.003151828690194211\n",
      "df: 2\n",
      "exp_freq: [[333.96753832 334.87015329 332.16230839]\n",
      " [ 36.03246168  36.12984671  35.83769161]]\n"
     ]
    }
   ],
   "source": [
    "chi_stat, p_value, df, exp_freq = chi2_contingency(observed) # chi_stat, p_value, df, expected values\n",
    "print(\"chi_stat:\",chi_stat)\n",
    "print(\"p_value:\",p_value)\n",
    "print(\"df:\",df)\n",
    "print(\"exp_freq:\",exp_freq)"
   ]
  },
  {
   "cell_type": "code",
   "execution_count": 24,
   "metadata": {
    "colab": {
     "base_uri": "https://localhost:8080/"
    },
    "id": "81N4uw95xPfs",
    "outputId": "b357b42f-d787-4734-ca32-1c8158cb18b3"
   },
   "outputs": [
    {
     "name": "stdout",
     "output_type": "stream",
     "text": [
      "0.0005088621855732918\n",
      "reject the null hypothesis\n"
     ]
    }
   ],
   "source": [
    "obeserved = [30,85,85]\n",
    "expected = [(200*0.20),(200*0.50), (200*0.30)]\n",
    "chi,p_value = chisquare(obeserved,expected)\n",
    "alpha = 0.05\n",
    "if p_value < alpha:\n",
    "    print(p_value)\n",
    "    print('reject the null hypothesis')\n",
    "else:\n",
    "    print('Fail to reject')\n",
    "    print(p_value)\n"
   ]
  }
 ],
 "metadata": {
  "colab": {
   "provenance": []
  },
  "kernelspec": {
   "display_name": "Python 3 (ipykernel)",
   "language": "python",
   "name": "python3"
  },
  "language_info": {
   "codemirror_mode": {
    "name": "ipython",
    "version": 3
   },
   "file_extension": ".py",
   "mimetype": "text/x-python",
   "name": "python",
   "nbconvert_exporter": "python",
   "pygments_lexer": "ipython3",
   "version": "3.10.9"
  }
 },
 "nbformat": 4,
 "nbformat_minor": 1
}
